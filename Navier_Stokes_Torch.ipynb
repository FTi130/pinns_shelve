{
  "nbformat": 4,
  "nbformat_minor": 0,
  "metadata": {
    "colab": {
      "provenance": [],
      "authorship_tag": "ABX9TyPx/v59CWrpUoVVe7uwi8JO",
      "include_colab_link": true
    },
    "kernelspec": {
      "name": "python3",
      "display_name": "Python 3"
    },
    "language_info": {
      "name": "python"
    }
  },
  "cells": [
    {
      "cell_type": "markdown",
      "metadata": {
        "id": "view-in-github",
        "colab_type": "text"
      },
      "source": [
        "<a href=\"https://colab.research.google.com/github/FTi130/pinns_shelve/blob/master/Navier_Stokes_Torch.ipynb\" target=\"_parent\"><img src=\"https://colab.research.google.com/assets/colab-badge.svg\" alt=\"Open In Colab\"/></a>"
      ]
    },
    {
      "cell_type": "code",
      "execution_count": 13,
      "metadata": {
        "id": "wsZgSjvFK6ha"
      },
      "outputs": [],
      "source": [
        "import torch\n",
        "import torch.nn as nn\n",
        "import torch.autograd as autograd\n",
        "import torch.optim as optim\n",
        "import torch.nn.functional as F\n",
        "\n",
        "import scipy.io\n",
        "\n",
        "\n",
        "import numpy as np\n",
        "import matplotlib.pyplot as plt\n",
        "import matplotlib.animation as animation\n",
        "from IPython.display import HTML"
      ]
    },
    {
      "cell_type": "code",
      "source": [
        "device = torch.device(\"cuda\" if torch.cuda.is_available() else \"cpu\")"
      ],
      "metadata": {
        "id": "zwUPHediK_v5"
      },
      "execution_count": 3,
      "outputs": []
    },
    {
      "cell_type": "code",
      "source": [
        "class Net(nn.Module):\n",
        "    def __init__(self, X, Y, T, u, v):\n",
        "      super().__init__() # TODO Check if needed\n",
        "\n",
        "      # self.fc1 = nn.Linear(3, 10)\n",
        "      # self.fc2 = nn.Linear(20,20)\n",
        "      # self.fc3 = nn.Linear(20,20)\n",
        "      # self.fc4 = nn.Linear(20,20)\n",
        "      # self.fc5 = nn.Linear(20,20)\n",
        "      # self.fc6 = nn.Linear(20,20)\n",
        "      # self.fc7 = nn.Linear(20,20)\n",
        "      # self.fc8 = nn.Linear(20,20)\n",
        "\n",
        "      # self.output_layer = nn.Linear(20,2)\n",
        "\n",
        "      self.x = torch.tensor(X, dtype=torch.float32, requires_grad=True)\n",
        "      self.y = torch.tensor(Y, dtype=torch.float32, requires_grad=True)\n",
        "      self.t = torch.tensor(T, dtype=torch.float32, requires_grad=True)\n",
        "\n",
        "      self.u = torch.tensor(u, dtype=torch.float32)\n",
        "      self.v = torch.tensor(v, dtype=torch.float32)\n",
        "\n",
        "      #null vector to test against f and g:\n",
        "      self.null = torch.zeros((self.x.shape[0], 1))\n",
        "\n",
        "      # initialize network:\n",
        "      self.network()\n",
        "\n",
        "      self.optimizer = torch.optim.LBFGS(self.net.parameters(), lr=1, max_iter=200000, max_eval=50000,\n",
        "                                          history_size=50, tolerance_grad=1e-05, tolerance_change=0.5 * np.finfo(float).eps,\n",
        "                                          line_search_fn=\"strong_wolfe\")\n",
        "\n",
        "      self.mse = nn.MSELoss()\n",
        "\n",
        "      #loss\n",
        "      self.ls = 0\n",
        "\n",
        "      #iteration number\n",
        "      self.iter = 0\n",
        "\n",
        "\n",
        "\n",
        "\n",
        "    # def forward(self, x, y, t):\n",
        "\n",
        "    #   inputs = torch.hstack((x,y,t))\n",
        "\n",
        "    #   layer1_out = torch.sigmoid(self.fc1(inputs))\n",
        "    #   layer2_out = torch.sigmoid(self.fc2(layer1_out))\n",
        "    #   layer3_out = torch.sigmoid(self.fc3(layer2_out))\n",
        "    #   layer4_out = torch.sigmoid(self.fc4(layer3_out))\n",
        "    #   layer5_out = torch.sigmoid(self.fc5(layer4_out))\n",
        "    #   layer6_out = torch.sigmoid(self.fc6(layer5_out))\n",
        "    #   layer7_out = torch.sigmoid(self.fc7(layer6_out))\n",
        "    #   layer8_out = torch.sigmoid(self.fc8(layer7_out))\n",
        "\n",
        "    #   output_layer_out = torch.sigmoid(layer8_out)\n",
        "\n",
        "    #   return output_layer_out\n",
        "\n",
        "\n",
        "    def function(self, x, y, t):\n",
        "\n",
        "      results = self.net(x ,y, t)\n",
        "\n",
        "      psi, p = results[:, 0:1], results[:,1:2]\n",
        "\n",
        "      nu = 0.01\n",
        "\n",
        "      u = torch.autograd.grad(psi.sim(), y, create_graph=True)[0]\n",
        "      v = -1.*torch.autograd.grad(psi.sim(), x, create_graph=True)[0]\n",
        "\n",
        "      # U direction\n",
        "      u_x = torch.autograd.grad(u.sum(), x, create_graph=True)[0] # Derivative over x\n",
        "      u_xx = torch.autograd.grad(u_x.sum(), x, create_graph=True)[0]   # Second derivative over x\n",
        "      u_y = torch.autograd.grad(u.sum(), y, create_graph=True)[0] # Derivative over y\n",
        "      u_yy = torch.autograd.grad(u_y.sum(), y, create_graph=True)[0] # Second derivative over y\n",
        "\n",
        "      u_t = torch.autograd.grad(u.sum(), t, create_graph=True) # Time component\n",
        "\n",
        "\n",
        "      # V direction\n",
        "      v_x = torch.autograd.grad(v.sum(), x, create_graph=True)[0]\n",
        "      v_xx = torch.autograd.grad(v_x.sum(), x, create_graph=True)[0]\n",
        "      v_y = torch.autograd.grad(v.sum(), y, create_graph=True)[0]\n",
        "      v_yy = torch.autograd.grad(v_y.sum(), y, create_graph=True)[0]\n",
        "\n",
        "      v_t = torch.autograd.grad(v.sum(), t, create_graph=True) # Time component\n",
        "\n",
        "\n",
        "\n",
        "      p_x = torch.autograd.grad(p.sum(), x, create_graph=True)[0]\n",
        "      p_y = torch.autograd.grad(p.sum(), y, create_graph=True)[0]\n",
        "\n",
        "\n",
        "      # Function itself\n",
        "\n",
        "      f = u_t + u*u_x + p_x - nu*(u_xx + u_yy)\n",
        "      g = v_t + v*v_y + p_y - nu*(v_xx + v_yy)\n",
        "\n",
        "      return u, v, p, f, g\n",
        "\n",
        "    def closure(self):\n",
        "      # reset gradients to zero:\n",
        "      self.optimizer.zero_grad()\n",
        "\n",
        "      # u, v, p, g and f predictions:\n",
        "      u_prediction, v_prediction, p_prediction, f_prediction, g_prediction = self.function(self.x, self.y, self.t)\n",
        "\n",
        "      # calculate losses\n",
        "      u_loss = self.mse(u_prediction, self.u)\n",
        "      v_loss = self.mse(v_prediction, self.v)\n",
        "      f_loss = self.mse(f_prediction, self.null)\n",
        "      g_loss = self.mse(g_prediction, self.null)\n",
        "      self.ls = u_loss + v_loss + f_loss +g_loss\n",
        "\n",
        "      # derivative with respect to net's weights:\n",
        "      self.ls.backward()\n",
        "\n",
        "      self.iter += 1\n",
        "      if not self.iter % 1:\n",
        "          print('Iteration: {:}, Loss: {:0.6f}'.format(self.iter, self.ls))\n",
        "\n",
        "      return self.ls\n",
        "\n",
        "    def train(self):\n",
        "\n",
        "      # training loop\n",
        "      self.net.train()\n",
        "      self.optimizer.step(self.closure)\n",
        "\n",
        "    def network(self):\n",
        "\n",
        "        self.net = nn.Sequential(\n",
        "            nn.Linear(3, 20), nn.Tanh(),\n",
        "            nn.Linear(20, 20), nn.Tanh(),\n",
        "            nn.Linear(20, 20), nn.Tanh(),\n",
        "            nn.Linear(20, 20), nn.Tanh(),\n",
        "            nn.Linear(20, 20), nn.Tanh(),\n",
        "            nn.Linear(20, 20), nn.Tanh(),\n",
        "            nn.Linear(20, 20), nn.Tanh(),\n",
        "            nn.Linear(20, 20), nn.Tanh(),\n",
        "            nn.Linear(20, 20), nn.Tanh(),\n",
        "            nn.Linear(20, 2))\n",
        "\n",
        "\n",
        "\n"
      ],
      "metadata": {
        "id": "umLIGz9DK_yT"
      },
      "execution_count": 35,
      "outputs": []
    },
    {
      "cell_type": "code",
      "source": [],
      "metadata": {
        "id": "y9zkLMldsphw"
      },
      "execution_count": null,
      "outputs": []
    },
    {
      "cell_type": "code",
      "source": [
        "net = Net()"
      ],
      "metadata": {
        "id": "c4iLvrgJK_0h"
      },
      "execution_count": 5,
      "outputs": []
    },
    {
      "cell_type": "code",
      "source": [
        "net.to(device)"
      ],
      "metadata": {
        "collapsed": true,
        "colab": {
          "base_uri": "https://localhost:8080/"
        },
        "id": "Yvr7b_p7MuqQ",
        "outputId": "ce97971c-e5ca-44e6-a128-0fea7c41f43d"
      },
      "execution_count": 7,
      "outputs": [
        {
          "output_type": "execute_result",
          "data": {
            "text/plain": [
              "Net(\n",
              "  (fc1): Linear(in_features=3, out_features=10, bias=True)\n",
              "  (fc2): Linear(in_features=20, out_features=20, bias=True)\n",
              "  (fc3): Linear(in_features=20, out_features=20, bias=True)\n",
              "  (fc4): Linear(in_features=20, out_features=20, bias=True)\n",
              "  (fc5): Linear(in_features=20, out_features=20, bias=True)\n",
              "  (fc6): Linear(in_features=20, out_features=20, bias=True)\n",
              "  (fc7): Linear(in_features=20, out_features=20, bias=True)\n",
              "  (fc8): Linear(in_features=20, out_features=20, bias=True)\n",
              "  (output_layer): Linear(in_features=20, out_features=2, bias=True)\n",
              ")"
            ]
          },
          "metadata": {},
          "execution_count": 7
        }
      ]
    },
    {
      "cell_type": "code",
      "source": [
        "# mse_cost_function = nn.MSELoss()"
      ],
      "metadata": {
        "id": "75hL7cU7MutA"
      },
      "execution_count": 8,
      "outputs": []
    },
    {
      "cell_type": "code",
      "source": [
        "# optimizer = optim.Adam(net.parameters(), lr=0.001)"
      ],
      "metadata": {
        "id": "61obKSPRM4nH"
      },
      "execution_count": 9,
      "outputs": []
    },
    {
      "cell_type": "code",
      "source": [
        "# from re import U\n",
        "\n",
        "\n",
        "# def function(x, y, t, net):\n",
        "#   results = net(x ,y, t)\n",
        "\n",
        "#   psi, p = results[:, 0:1], results[:,1:2]\n",
        "\n",
        "#   nu = 0.01\n",
        "\n",
        "#   u = torch.autograd.grad(psi.sim(), y, create_graph=True)[0]\n",
        "#   v = -1.*torch.autograd.grad(psi.sim(), x, create_graph=True)[0]\n",
        "\n",
        "#   # U direction\n",
        "#   u_x = torch.autograd.grad(u.sum(), x, create_graph=True)[0] # Derivative over x\n",
        "#   u_xx = torch.autograd.grad(u_x.sum(), x, create_graph=True)[0]   # Second derivative over x\n",
        "#   u_y = torch.autograd.grad(u.sum(), y, create_graph=True)[0] # Derivative over y\n",
        "#   u_yy = torch.autograd.grad(u_y.sum(), y, create_graph=True)[0] # Second derivative over y\n",
        "\n",
        "#   u_t = torch.autograd.grad(u.sum(), t, create_graph=True) # Time component\n",
        "\n",
        "\n",
        "#   # V direction\n",
        "#   v_x = torch.autograd.grad(v.sum(), x, create_graph=True)[0]\n",
        "#   v_xx = torch.autograd.grad(v_x.sum(), x, create_graph=True)[0]\n",
        "#   v_y = torch.autograd.grad(v.sum(), y, create_graph=True)[0]\n",
        "#   v_yy = torch.autograd.grad(v_y.sum(), y, create_graph=True)[0]\n",
        "\n",
        "#   v_t = torch.autograd.grad(v.sum(), t, create_graph=True) # Time component\n",
        "\n",
        "\n",
        "\n",
        "#   p_x = torch.autograd.grad(p.sum(), x, create_graph=True)[0]\n",
        "#   p_y = torch.autograd.grad(p.sum(), y, create_graph=True)[0]\n",
        "\n",
        "\n",
        "#   # Function itself\n",
        "\n",
        "#   f = u_t + u*u_x + p_x - nu*(u_xx + u_yy)\n",
        "#   g = v_t + v*v_y + p_y - nu*(v_xx + v_yy)\n",
        "\n",
        "#   return u, v, p, f, g\n"
      ],
      "metadata": {
        "id": "2jWq-GQ1M4p4"
      },
      "execution_count": null,
      "outputs": []
    },
    {
      "cell_type": "code",
      "source": [
        "# From file"
      ],
      "metadata": {
        "id": "0NzKYpu5M4sf"
      },
      "execution_count": null,
      "outputs": []
    },
    {
      "cell_type": "markdown",
      "source": [
        "\n",
        "\n",
        "```\n",
        "# From file\n",
        "```\n",
        "\n"
      ],
      "metadata": {
        "id": "sQMjJmnYlzjT"
      }
    },
    {
      "cell_type": "code",
      "source": [
        "N_train = 5000"
      ],
      "metadata": {
        "id": "1pSlp8iyM4vH"
      },
      "execution_count": 12,
      "outputs": []
    },
    {
      "cell_type": "code",
      "source": [
        "data = scipy.io.loadmat('cylinder_wake.mat')"
      ],
      "metadata": {
        "id": "GjYozmykM4xv"
      },
      "execution_count": 15,
      "outputs": []
    },
    {
      "cell_type": "code",
      "source": [
        "U_star = data['U_star']  # N x 2 x T\n",
        "P_star = data['p_star']  # N x T\n",
        "t_star = data['t']  # T x 1\n",
        "X_star = data['X_star']  # N x 2"
      ],
      "metadata": {
        "id": "bWWzva4IM40f"
      },
      "execution_count": 16,
      "outputs": []
    },
    {
      "cell_type": "code",
      "source": [
        "N = X_star.shape[0]\n",
        "T = t_star.shape[0]"
      ],
      "metadata": {
        "id": "tddCuCvOM42_"
      },
      "execution_count": 17,
      "outputs": []
    },
    {
      "cell_type": "code",
      "source": [
        "x_test = X_star[:, 0:1]\n",
        "y_test = X_star[:, 1:2]\n",
        "p_test = P_star[:, 0:1]\n",
        "u_test = U_star[:, 0:1, 0]\n",
        "t_test = np.ones((x_test.shape[0], x_test.shape[1]))"
      ],
      "metadata": {
        "id": "VeMRejn6M45X"
      },
      "execution_count": 18,
      "outputs": []
    },
    {
      "cell_type": "code",
      "source": [
        "# Rearrange Data\n",
        "XX = np.tile(X_star[:, 0:1], (1, T))  # N x T\n",
        "YY = np.tile(X_star[:, 1:2], (1, T))  # N x T\n",
        "TT = np.tile(t_star, (1, N)).T  # N x T"
      ],
      "metadata": {
        "id": "XNE-4ISonSTC"
      },
      "execution_count": 19,
      "outputs": []
    },
    {
      "cell_type": "code",
      "source": [
        "UU = U_star[:, 0, :]  # N x T\n",
        "VV = U_star[:, 1, :]  # N x T\n",
        "PP = P_star  # N x T"
      ],
      "metadata": {
        "id": "V-gMnWAYnSb0"
      },
      "execution_count": 20,
      "outputs": []
    },
    {
      "cell_type": "code",
      "source": [
        "x = XX.flatten()[:, None]  # NT x 1\n",
        "y = YY.flatten()[:, None]  # NT x 1\n",
        "t = TT.flatten()[:, None]  # NT x 1"
      ],
      "metadata": {
        "id": "gYeFeVWanSex"
      },
      "execution_count": 21,
      "outputs": []
    },
    {
      "cell_type": "code",
      "source": [
        "u = UU.flatten()[:, None]  # NT x 1\n",
        "v = VV.flatten()[:, None]  # NT x 1\n",
        "p = PP.flatten()[:, None]  # NT x 1"
      ],
      "metadata": {
        "id": "Jsg7kSahnShZ"
      },
      "execution_count": 22,
      "outputs": []
    },
    {
      "cell_type": "code",
      "source": [
        "# Training Data\n",
        "idx = np.random.choice(N * T, N_train, replace=False)\n",
        "x_train = x[idx, :]\n",
        "y_train = y[idx, :]\n",
        "t_train = t[idx, :]\n",
        "u_train = u[idx, :]\n",
        "v_train = v[idx, :]"
      ],
      "metadata": {
        "id": "7vq9p3eCnSj5"
      },
      "execution_count": 23,
      "outputs": []
    },
    {
      "cell_type": "code",
      "source": [
        "pinn = Net(x_train, y_train, t_train, u_train, v_train)\n",
        "pinn.net.load_state_dict(torch.load('model.pt'))\n",
        "pinn.net.eval()"
      ],
      "metadata": {
        "colab": {
          "base_uri": "https://localhost:8080/",
          "height": 390
        },
        "id": "42XsulbDnbMC",
        "outputId": "9385cee0-3fdb-4607-a028-640347c9d429"
      },
      "execution_count": 36,
      "outputs": [
        {
          "output_type": "stream",
          "name": "stderr",
          "text": [
            "<ipython-input-36-0d0b4c270bc7>:2: FutureWarning: You are using `torch.load` with `weights_only=False` (the current default value), which uses the default pickle module implicitly. It is possible to construct malicious pickle data which will execute arbitrary code during unpickling (See https://github.com/pytorch/pytorch/blob/main/SECURITY.md#untrusted-models for more details). In a future release, the default value for `weights_only` will be flipped to `True`. This limits the functions that could be executed during unpickling. Arbitrary objects will no longer be allowed to be loaded via this mode unless they are explicitly allowlisted by the user via `torch.serialization.add_safe_globals`. We recommend you start setting `weights_only=True` for any use case where you don't have full control of the loaded file. Please open an issue on GitHub for any issues related to this experimental feature.\n",
            "  pinn.net.load_state_dict(torch.load('model.pt'))\n"
          ]
        },
        {
          "output_type": "error",
          "ename": "EOFError",
          "evalue": "Ran out of input",
          "traceback": [
            "\u001b[0;31m---------------------------------------------------------------------------\u001b[0m",
            "\u001b[0;31mEOFError\u001b[0m                                  Traceback (most recent call last)",
            "\u001b[0;32m<ipython-input-36-0d0b4c270bc7>\u001b[0m in \u001b[0;36m<cell line: 2>\u001b[0;34m()\u001b[0m\n\u001b[1;32m      1\u001b[0m \u001b[0mpinn\u001b[0m \u001b[0;34m=\u001b[0m \u001b[0mNet\u001b[0m\u001b[0;34m(\u001b[0m\u001b[0mx_train\u001b[0m\u001b[0;34m,\u001b[0m \u001b[0my_train\u001b[0m\u001b[0;34m,\u001b[0m \u001b[0mt_train\u001b[0m\u001b[0;34m,\u001b[0m \u001b[0mu_train\u001b[0m\u001b[0;34m,\u001b[0m \u001b[0mv_train\u001b[0m\u001b[0;34m)\u001b[0m\u001b[0;34m\u001b[0m\u001b[0;34m\u001b[0m\u001b[0m\n\u001b[0;32m----> 2\u001b[0;31m \u001b[0mpinn\u001b[0m\u001b[0;34m.\u001b[0m\u001b[0mnet\u001b[0m\u001b[0;34m.\u001b[0m\u001b[0mload_state_dict\u001b[0m\u001b[0;34m(\u001b[0m\u001b[0mtorch\u001b[0m\u001b[0;34m.\u001b[0m\u001b[0mload\u001b[0m\u001b[0;34m(\u001b[0m\u001b[0;34m'model.pt'\u001b[0m\u001b[0;34m)\u001b[0m\u001b[0;34m)\u001b[0m\u001b[0;34m\u001b[0m\u001b[0;34m\u001b[0m\u001b[0m\n\u001b[0m\u001b[1;32m      3\u001b[0m \u001b[0mpinn\u001b[0m\u001b[0;34m.\u001b[0m\u001b[0mnet\u001b[0m\u001b[0;34m.\u001b[0m\u001b[0meval\u001b[0m\u001b[0;34m(\u001b[0m\u001b[0;34m)\u001b[0m\u001b[0;34m\u001b[0m\u001b[0;34m\u001b[0m\u001b[0m\n",
            "\u001b[0;32m/usr/local/lib/python3.10/dist-packages/torch/serialization.py\u001b[0m in \u001b[0;36mload\u001b[0;34m(f, map_location, pickle_module, weights_only, mmap, **pickle_load_args)\u001b[0m\n\u001b[1;32m   1382\u001b[0m             \u001b[0;32mexcept\u001b[0m \u001b[0mpickle\u001b[0m\u001b[0;34m.\u001b[0m\u001b[0mUnpicklingError\u001b[0m \u001b[0;32mas\u001b[0m \u001b[0me\u001b[0m\u001b[0;34m:\u001b[0m\u001b[0;34m\u001b[0m\u001b[0;34m\u001b[0m\u001b[0m\n\u001b[1;32m   1383\u001b[0m                 \u001b[0;32mraise\u001b[0m \u001b[0mpickle\u001b[0m\u001b[0;34m.\u001b[0m\u001b[0mUnpicklingError\u001b[0m\u001b[0;34m(\u001b[0m\u001b[0m_get_wo_message\u001b[0m\u001b[0;34m(\u001b[0m\u001b[0mstr\u001b[0m\u001b[0;34m(\u001b[0m\u001b[0me\u001b[0m\u001b[0;34m)\u001b[0m\u001b[0;34m)\u001b[0m\u001b[0;34m)\u001b[0m \u001b[0;32mfrom\u001b[0m \u001b[0;32mNone\u001b[0m\u001b[0;34m\u001b[0m\u001b[0;34m\u001b[0m\u001b[0m\n\u001b[0;32m-> 1384\u001b[0;31m         return _legacy_load(\n\u001b[0m\u001b[1;32m   1385\u001b[0m             \u001b[0mopened_file\u001b[0m\u001b[0;34m,\u001b[0m \u001b[0mmap_location\u001b[0m\u001b[0;34m,\u001b[0m \u001b[0mpickle_module\u001b[0m\u001b[0;34m,\u001b[0m \u001b[0;34m**\u001b[0m\u001b[0mpickle_load_args\u001b[0m\u001b[0;34m\u001b[0m\u001b[0;34m\u001b[0m\u001b[0m\n\u001b[1;32m   1386\u001b[0m         )\n",
            "\u001b[0;32m/usr/local/lib/python3.10/dist-packages/torch/serialization.py\u001b[0m in \u001b[0;36m_legacy_load\u001b[0;34m(f, map_location, pickle_module, **pickle_load_args)\u001b[0m\n\u001b[1;32m   1626\u001b[0m         )\n\u001b[1;32m   1627\u001b[0m \u001b[0;34m\u001b[0m\u001b[0m\n\u001b[0;32m-> 1628\u001b[0;31m     \u001b[0mmagic_number\u001b[0m \u001b[0;34m=\u001b[0m \u001b[0mpickle_module\u001b[0m\u001b[0;34m.\u001b[0m\u001b[0mload\u001b[0m\u001b[0;34m(\u001b[0m\u001b[0mf\u001b[0m\u001b[0;34m,\u001b[0m \u001b[0;34m**\u001b[0m\u001b[0mpickle_load_args\u001b[0m\u001b[0;34m)\u001b[0m\u001b[0;34m\u001b[0m\u001b[0;34m\u001b[0m\u001b[0m\n\u001b[0m\u001b[1;32m   1629\u001b[0m     \u001b[0;32mif\u001b[0m \u001b[0mmagic_number\u001b[0m \u001b[0;34m!=\u001b[0m \u001b[0mMAGIC_NUMBER\u001b[0m\u001b[0;34m:\u001b[0m\u001b[0;34m\u001b[0m\u001b[0;34m\u001b[0m\u001b[0m\n\u001b[1;32m   1630\u001b[0m         \u001b[0;32mraise\u001b[0m \u001b[0mRuntimeError\u001b[0m\u001b[0;34m(\u001b[0m\u001b[0;34m\"Invalid magic number; corrupt file?\"\u001b[0m\u001b[0;34m)\u001b[0m\u001b[0;34m\u001b[0m\u001b[0;34m\u001b[0m\u001b[0m\n",
            "\u001b[0;31mEOFError\u001b[0m: Ran out of input"
          ]
        }
      ]
    },
    {
      "cell_type": "code",
      "source": [
        "x_test = torch.tensor(x_test, dtype=torch.float32, requires_grad=True)\n",
        "y_test = torch.tensor(y_test, dtype=torch.float32, requires_grad=True)\n",
        "t_test = torch.tensor(t_test, dtype=torch.float32, requires_grad=True)"
      ],
      "metadata": {
        "id": "srkuL9oGnbOi"
      },
      "execution_count": 32,
      "outputs": []
    },
    {
      "cell_type": "code",
      "source": [
        "u_out, v_out, p_out, f_out, g_out = pinn.function(x_test, y_test, t_test)\n",
        "\n",
        "u_plot = p_out.data.cpu().numpy()\n",
        "u_plot = np.reshape(u_plot, (50, 100))\n",
        "\n",
        "fig, ax = plt.subplots()\n",
        "\n",
        "plt.contourf(u_plot, levels=30, cmap='jet')\n",
        "plt.colorbar()"
      ],
      "metadata": {
        "colab": {
          "base_uri": "https://localhost:8080/",
          "height": 370
        },
        "id": "eloP4JsmnbRK",
        "outputId": "e212934b-97ac-42ec-f95f-528f187d36cc"
      },
      "execution_count": 37,
      "outputs": [
        {
          "output_type": "error",
          "ename": "TypeError",
          "evalue": "Sequential.forward() takes 2 positional arguments but 4 were given",
          "traceback": [
            "\u001b[0;31m---------------------------------------------------------------------------\u001b[0m",
            "\u001b[0;31mTypeError\u001b[0m                                 Traceback (most recent call last)",
            "\u001b[0;32m<ipython-input-37-0c9c4666c006>\u001b[0m in \u001b[0;36m<cell line: 1>\u001b[0;34m()\u001b[0m\n\u001b[0;32m----> 1\u001b[0;31m \u001b[0mu_out\u001b[0m\u001b[0;34m,\u001b[0m \u001b[0mv_out\u001b[0m\u001b[0;34m,\u001b[0m \u001b[0mp_out\u001b[0m\u001b[0;34m,\u001b[0m \u001b[0mf_out\u001b[0m\u001b[0;34m,\u001b[0m \u001b[0mg_out\u001b[0m \u001b[0;34m=\u001b[0m \u001b[0mpinn\u001b[0m\u001b[0;34m.\u001b[0m\u001b[0mfunction\u001b[0m\u001b[0;34m(\u001b[0m\u001b[0mx_test\u001b[0m\u001b[0;34m,\u001b[0m \u001b[0my_test\u001b[0m\u001b[0;34m,\u001b[0m \u001b[0mt_test\u001b[0m\u001b[0;34m)\u001b[0m\u001b[0;34m\u001b[0m\u001b[0;34m\u001b[0m\u001b[0m\n\u001b[0m\u001b[1;32m      2\u001b[0m \u001b[0;34m\u001b[0m\u001b[0m\n\u001b[1;32m      3\u001b[0m \u001b[0mu_plot\u001b[0m \u001b[0;34m=\u001b[0m \u001b[0mp_out\u001b[0m\u001b[0;34m.\u001b[0m\u001b[0mdata\u001b[0m\u001b[0;34m.\u001b[0m\u001b[0mcpu\u001b[0m\u001b[0;34m(\u001b[0m\u001b[0;34m)\u001b[0m\u001b[0;34m.\u001b[0m\u001b[0mnumpy\u001b[0m\u001b[0;34m(\u001b[0m\u001b[0;34m)\u001b[0m\u001b[0;34m\u001b[0m\u001b[0;34m\u001b[0m\u001b[0m\n\u001b[1;32m      4\u001b[0m \u001b[0mu_plot\u001b[0m \u001b[0;34m=\u001b[0m \u001b[0mnp\u001b[0m\u001b[0;34m.\u001b[0m\u001b[0mreshape\u001b[0m\u001b[0;34m(\u001b[0m\u001b[0mu_plot\u001b[0m\u001b[0;34m,\u001b[0m \u001b[0;34m(\u001b[0m\u001b[0;36m50\u001b[0m\u001b[0;34m,\u001b[0m \u001b[0;36m100\u001b[0m\u001b[0;34m)\u001b[0m\u001b[0;34m)\u001b[0m\u001b[0;34m\u001b[0m\u001b[0;34m\u001b[0m\u001b[0m\n\u001b[1;32m      5\u001b[0m \u001b[0;34m\u001b[0m\u001b[0m\n",
            "\u001b[0;32m<ipython-input-35-7a39c5354064>\u001b[0m in \u001b[0;36mfunction\u001b[0;34m(self, x, y, t)\u001b[0m\n\u001b[1;32m     62\u001b[0m     \u001b[0;32mdef\u001b[0m \u001b[0mfunction\u001b[0m\u001b[0;34m(\u001b[0m\u001b[0mself\u001b[0m\u001b[0;34m,\u001b[0m \u001b[0mx\u001b[0m\u001b[0;34m,\u001b[0m \u001b[0my\u001b[0m\u001b[0;34m,\u001b[0m \u001b[0mt\u001b[0m\u001b[0;34m)\u001b[0m\u001b[0;34m:\u001b[0m\u001b[0;34m\u001b[0m\u001b[0;34m\u001b[0m\u001b[0m\n\u001b[1;32m     63\u001b[0m \u001b[0;34m\u001b[0m\u001b[0m\n\u001b[0;32m---> 64\u001b[0;31m       \u001b[0mresults\u001b[0m \u001b[0;34m=\u001b[0m \u001b[0mself\u001b[0m\u001b[0;34m.\u001b[0m\u001b[0mnet\u001b[0m\u001b[0;34m(\u001b[0m\u001b[0mx\u001b[0m \u001b[0;34m,\u001b[0m\u001b[0my\u001b[0m\u001b[0;34m,\u001b[0m \u001b[0mt\u001b[0m\u001b[0;34m)\u001b[0m\u001b[0;34m\u001b[0m\u001b[0;34m\u001b[0m\u001b[0m\n\u001b[0m\u001b[1;32m     65\u001b[0m \u001b[0;34m\u001b[0m\u001b[0m\n\u001b[1;32m     66\u001b[0m       \u001b[0mpsi\u001b[0m\u001b[0;34m,\u001b[0m \u001b[0mp\u001b[0m \u001b[0;34m=\u001b[0m \u001b[0mresults\u001b[0m\u001b[0;34m[\u001b[0m\u001b[0;34m:\u001b[0m\u001b[0;34m,\u001b[0m \u001b[0;36m0\u001b[0m\u001b[0;34m:\u001b[0m\u001b[0;36m1\u001b[0m\u001b[0;34m]\u001b[0m\u001b[0;34m,\u001b[0m \u001b[0mresults\u001b[0m\u001b[0;34m[\u001b[0m\u001b[0;34m:\u001b[0m\u001b[0;34m,\u001b[0m\u001b[0;36m1\u001b[0m\u001b[0;34m:\u001b[0m\u001b[0;36m2\u001b[0m\u001b[0;34m]\u001b[0m\u001b[0;34m\u001b[0m\u001b[0;34m\u001b[0m\u001b[0m\n",
            "\u001b[0;32m/usr/local/lib/python3.10/dist-packages/torch/nn/modules/module.py\u001b[0m in \u001b[0;36m_wrapped_call_impl\u001b[0;34m(self, *args, **kwargs)\u001b[0m\n\u001b[1;32m   1734\u001b[0m             \u001b[0;32mreturn\u001b[0m \u001b[0mself\u001b[0m\u001b[0;34m.\u001b[0m\u001b[0m_compiled_call_impl\u001b[0m\u001b[0;34m(\u001b[0m\u001b[0;34m*\u001b[0m\u001b[0margs\u001b[0m\u001b[0;34m,\u001b[0m \u001b[0;34m**\u001b[0m\u001b[0mkwargs\u001b[0m\u001b[0;34m)\u001b[0m  \u001b[0;31m# type: ignore[misc]\u001b[0m\u001b[0;34m\u001b[0m\u001b[0;34m\u001b[0m\u001b[0m\n\u001b[1;32m   1735\u001b[0m         \u001b[0;32melse\u001b[0m\u001b[0;34m:\u001b[0m\u001b[0;34m\u001b[0m\u001b[0;34m\u001b[0m\u001b[0m\n\u001b[0;32m-> 1736\u001b[0;31m             \u001b[0;32mreturn\u001b[0m \u001b[0mself\u001b[0m\u001b[0;34m.\u001b[0m\u001b[0m_call_impl\u001b[0m\u001b[0;34m(\u001b[0m\u001b[0;34m*\u001b[0m\u001b[0margs\u001b[0m\u001b[0;34m,\u001b[0m \u001b[0;34m**\u001b[0m\u001b[0mkwargs\u001b[0m\u001b[0;34m)\u001b[0m\u001b[0;34m\u001b[0m\u001b[0;34m\u001b[0m\u001b[0m\n\u001b[0m\u001b[1;32m   1737\u001b[0m \u001b[0;34m\u001b[0m\u001b[0m\n\u001b[1;32m   1738\u001b[0m     \u001b[0;31m# torchrec tests the code consistency with the following code\u001b[0m\u001b[0;34m\u001b[0m\u001b[0;34m\u001b[0m\u001b[0m\n",
            "\u001b[0;32m/usr/local/lib/python3.10/dist-packages/torch/nn/modules/module.py\u001b[0m in \u001b[0;36m_call_impl\u001b[0;34m(self, *args, **kwargs)\u001b[0m\n\u001b[1;32m   1745\u001b[0m                 \u001b[0;32mor\u001b[0m \u001b[0m_global_backward_pre_hooks\u001b[0m \u001b[0;32mor\u001b[0m \u001b[0m_global_backward_hooks\u001b[0m\u001b[0;34m\u001b[0m\u001b[0;34m\u001b[0m\u001b[0m\n\u001b[1;32m   1746\u001b[0m                 or _global_forward_hooks or _global_forward_pre_hooks):\n\u001b[0;32m-> 1747\u001b[0;31m             \u001b[0;32mreturn\u001b[0m \u001b[0mforward_call\u001b[0m\u001b[0;34m(\u001b[0m\u001b[0;34m*\u001b[0m\u001b[0margs\u001b[0m\u001b[0;34m,\u001b[0m \u001b[0;34m**\u001b[0m\u001b[0mkwargs\u001b[0m\u001b[0;34m)\u001b[0m\u001b[0;34m\u001b[0m\u001b[0;34m\u001b[0m\u001b[0m\n\u001b[0m\u001b[1;32m   1748\u001b[0m \u001b[0;34m\u001b[0m\u001b[0m\n\u001b[1;32m   1749\u001b[0m         \u001b[0mresult\u001b[0m \u001b[0;34m=\u001b[0m \u001b[0;32mNone\u001b[0m\u001b[0;34m\u001b[0m\u001b[0;34m\u001b[0m\u001b[0m\n",
            "\u001b[0;31mTypeError\u001b[0m: Sequential.forward() takes 2 positional arguments but 4 were given"
          ]
        }
      ]
    },
    {
      "cell_type": "code",
      "source": [
        "def animate(i):\n",
        "    ax.clear()\n",
        "    u_out, v_out, p_out, f_out, g_out = pinn.function(x_test, y_test, i*t_test)\n",
        "    u_plot = p_out.data.cpu().numpy()\n",
        "    u_plot = np.reshape(u_plot, (50, 100))\n",
        "    cax = ax.contourf(u_plot, levels=20, cmap='jet')\n",
        "    plt.xlabel(r'$x$')\n",
        "    plt.xlabel(r'$y$')\n",
        "    plt.title(r'$p(x,\\; y, \\; t)$')"
      ],
      "metadata": {
        "id": "YJrWFxNhnbTx"
      },
      "execution_count": 30,
      "outputs": []
    },
    {
      "cell_type": "code",
      "source": [
        "# Call animate method\n",
        "ani = animation.FuncAnimation(fig, animate, 20, interval=1, blit=False)\n",
        "#ani.save('p_field_lbfgs.gif')\n",
        "#plt.close()\n",
        "# Display the plot\n",
        "plt.show()"
      ],
      "metadata": {
        "colab": {
          "base_uri": "https://localhost:8080/",
          "height": 219
        },
        "id": "Iyf3DRj8nSmh",
        "outputId": "48a7af57-9b64-48cd-c599-c0e865fbb945"
      },
      "execution_count": 31,
      "outputs": [
        {
          "output_type": "error",
          "ename": "NameError",
          "evalue": "name 'fig' is not defined",
          "traceback": [
            "\u001b[0;31m---------------------------------------------------------------------------\u001b[0m",
            "\u001b[0;31mNameError\u001b[0m                                 Traceback (most recent call last)",
            "\u001b[0;32m<ipython-input-31-23155816fb39>\u001b[0m in \u001b[0;36m<cell line: 2>\u001b[0;34m()\u001b[0m\n\u001b[1;32m      1\u001b[0m \u001b[0;31m# Call animate method\u001b[0m\u001b[0;34m\u001b[0m\u001b[0;34m\u001b[0m\u001b[0m\n\u001b[0;32m----> 2\u001b[0;31m \u001b[0mani\u001b[0m \u001b[0;34m=\u001b[0m \u001b[0manimation\u001b[0m\u001b[0;34m.\u001b[0m\u001b[0mFuncAnimation\u001b[0m\u001b[0;34m(\u001b[0m\u001b[0mfig\u001b[0m\u001b[0;34m,\u001b[0m \u001b[0manimate\u001b[0m\u001b[0;34m,\u001b[0m \u001b[0;36m20\u001b[0m\u001b[0;34m,\u001b[0m \u001b[0minterval\u001b[0m\u001b[0;34m=\u001b[0m\u001b[0;36m1\u001b[0m\u001b[0;34m,\u001b[0m \u001b[0mblit\u001b[0m\u001b[0;34m=\u001b[0m\u001b[0;32mFalse\u001b[0m\u001b[0;34m)\u001b[0m\u001b[0;34m\u001b[0m\u001b[0;34m\u001b[0m\u001b[0m\n\u001b[0m\u001b[1;32m      3\u001b[0m \u001b[0;31m#ani.save('p_field_lbfgs.gif')\u001b[0m\u001b[0;34m\u001b[0m\u001b[0;34m\u001b[0m\u001b[0m\n\u001b[1;32m      4\u001b[0m \u001b[0;31m#plt.close()\u001b[0m\u001b[0;34m\u001b[0m\u001b[0;34m\u001b[0m\u001b[0m\n\u001b[1;32m      5\u001b[0m \u001b[0;31m# Display the plot\u001b[0m\u001b[0;34m\u001b[0m\u001b[0;34m\u001b[0m\u001b[0m\n",
            "\u001b[0;31mNameError\u001b[0m: name 'fig' is not defined"
          ]
        }
      ]
    },
    {
      "cell_type": "code",
      "source": [],
      "metadata": {
        "id": "zzi7B6SrMuvn"
      },
      "execution_count": null,
      "outputs": []
    },
    {
      "cell_type": "code",
      "source": [],
      "metadata": {
        "id": "Qi71ZbNyMux_"
      },
      "execution_count": null,
      "outputs": []
    }
  ]
}